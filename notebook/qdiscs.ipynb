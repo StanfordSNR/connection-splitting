{
 "cells": [
  {
   "cell_type": "code",
   "execution_count": 21,
   "id": "9752fa28-df3f-401e-ba76-05183d9e0433",
   "metadata": {},
   "outputs": [],
   "source": [
    "from common import *\n",
    "from experiment import *\n",
    "from data import DirectRawData, RawData, PlottableData"
   ]
  },
  {
   "cell_type": "code",
   "execution_count": 22,
   "id": "7984d99e-9d3d-491d-abb4-8fbb2520449d",
   "metadata": {},
   "outputs": [],
   "source": [
    "GROUPS = ['cubic', 'bbr1', 'bbr2', 'bbr3']\n",
    "TREATMENTS = [\n",
    "    TCPTreatment(cca='cubic', pep=False, label='tcp_cubic'),\n",
    "    TCPTreatment(cca='bbr', pep=False, label='tcp_bbr'),\n",
    "    TCPTreatment(cca='bbr2', pep=False, label='tcp_bbr2'),\n",
    "    TCPTreatment(cca='bbr', pep=False, label='tcp_bbr1'),  # When the default bbr module on the current Linux kernel is v1!\n",
    "    TCPTreatment(cca='cubic', pep=True, label='pep_cubic'),\n",
    "    TCPTreatment(cca='bbr', pep=True, label='pep_bbr'),\n",
    "    TCPTreatment(cca='bbr2', pep=True, label='pep_bbr2'),\n",
    "    TCPTreatment(cca='bbr', pep=True, label='pep_bbr1'),  # When the default bbr module on the current Linux kernel is v1!\n",
    "]\n",
    "TCP_CUBIC = TREATMENTS[0]\n",
    "TCP_BBRV3 = TREATMENTS[1]\n",
    "TCP_BBRV2 = TREATMENTS[2]\n",
    "TCP_BBRV1 = TREATMENTS[3]\n",
    "PEP_CUBIC = TREATMENTS[4]\n",
    "PEP_BBRV3 = TREATMENTS[5]\n",
    "PEP_BBRV2 = TREATMENTS[6]\n",
    "PEP_BBRV1 = TREATMENTS[7]"
   ]
  },
  {
   "cell_type": "markdown",
   "id": "d243c5c3-6eea-4cbb-971b-4a4196d0c47c",
   "metadata": {},
   "source": [
    "# Pick network settings"
   ]
  },
  {
   "cell_type": "code",
   "execution_count": 23,
   "id": "a9b25397-e95c-433f-85a4-4eb2e2456789",
   "metadata": {},
   "outputs": [],
   "source": [
    "# Generate the treatments\n",
    "treatments_map = {\n",
    "    'pep': [PEP_CUBIC, PEP_BBRV1, PEP_BBRV2, PEP_BBRV3],\n",
    "    'tcp': [TCP_CUBIC, TCP_BBRV1, TCP_BBRV2, TCP_BBRV3],\n",
    "}"
   ]
  },
  {
   "cell_type": "code",
   "execution_count": 24,
   "id": "7ab788c9-16d7-4bd6-b142-fa0d2bc91dbf",
   "metadata": {},
   "outputs": [],
   "source": [
    "# Generate a representative network setting and data size\n",
    "num_trials = 10\n",
    "network_settings = [\n",
    "    NetworkSetting(delay1=1, delay2=80, loss1='0', loss2='4', bw1=10, bw2=50),\n",
    "    NetworkSetting(delay1=1, delay2=20, loss1='4', loss2='0', bw1=30, bw2=30),\n",
    "    NetworkSetting(delay1=1, delay2=20, loss1='4', loss2='0', bw1=30, bw2=30).mirror(),\n",
    "    NetworkSetting(delay1=20, delay2=20, loss1='2', loss2='2', bw1=50, bw2=50),\n",
    "    NetworkSetting(delay1=1, delay2=20, loss1='3', loss2='1', bw1=30, bw2=30),\n",
    "]\n",
    "data_size = lambda bw: int(10*1000000*bw/8)  # 10x the bottleneck bandwidth\n",
    "data_sizes = [data_size(min(ns.get('bw1'), ns.get('bw2'))) for ns in network_settings]"
   ]
  },
  {
   "cell_type": "markdown",
   "id": "c9cd21c4-58ed-4fc6-b371-572ae80bacd4",
   "metadata": {},
   "source": [
    "# Execute experiments for each qdisc"
   ]
  },
  {
   "cell_type": "code",
   "execution_count": 25,
   "id": "43f61a0c-3275-4633-92dd-cc9342c27ba0",
   "metadata": {},
   "outputs": [],
   "source": [
    "# TODO: Set the index for the appropriate kernel!\n",
    "index = 1"
   ]
  },
  {
   "cell_type": "code",
   "execution_count": 26,
   "id": "6d33f38f-1436-4336-a139-424adc2ecdcc",
   "metadata": {},
   "outputs": [],
   "source": [
    "def network_settings_with_qdisc(network_settings, qdisc):\n",
    "    ns_qdiscs = []\n",
    "    for ns in network_settings:\n",
    "        ns_qdisc = ns.clone()\n",
    "        ns_qdisc.set('qdisc', qdisc)\n",
    "        ns_qdiscs.append(ns_qdisc)\n",
    "    return ns_qdiscs\n",
    "\n",
    "def network_setting_with_qdiscs(network_setting, qdiscs):\n",
    "    ns_qdiscs = []\n",
    "    for qdisc in qdiscs:\n",
    "        ns_qdisc = network_setting.clone()\n",
    "        ns_qdisc.set('qdisc', qdisc)\n",
    "        ns_qdiscs.append(ns_qdisc)\n",
    "    return ns_qdiscs"
   ]
  },
  {
   "cell_type": "code",
   "execution_count": null,
   "id": "1815fb31-a5d6-45e6-ac5c-0f5db8039914",
   "metadata": {},
   "outputs": [
    {
     "name": "stdout",
     "output_type": "stream",
     "text": [
      "5\n",
      "13.68497896194458mulation/main.py --bw1 10 --bw2 50 --delay2 80 --loss1 0 --loss2 4 --qdisc red -t 1 --label pep_bbr1 tcp --pep -cca bbr -n 12500000 \n",
      "11.643951416015625ulation/main.py --bw1 30 --bw2 30 --delay2 20 --loss1 4 --qdisc red -t 1 --label pep_bbr1 tcp --pep -cca bbr -n 37500000 \n",
      "11.664195775985718ulation/main.py --bw1 30 --bw2 30 --delay1 20 --delay2 1 --loss1 0 --loss2 4 --qdisc red -t 1 --label pep_bbr1 tcp --pep -cca bbr -n 37500000 \n",
      "14.396405220031738ulation/main.py --bw1 50 --bw2 50 --delay1 20 --delay2 20 --loss1 2 --loss2 2 --qdisc red -t 1 --label pep_bbr1 tcp --pep -cca bbr -n 62500000 \n",
      "11.843924522399902ulation/main.py --bw1 30 --bw2 30 --delay2 20 --loss1 3 --loss2 1 --qdisc red -t 1 --label pep_bbr1 tcp --pep -cca bbr -n 37500000 \n",
      "5\n",
      "13.46788740158081mulation/main.py --bw1 10 --bw2 50 --delay2 80 --loss1 0 --loss2 4 --qdisc bfifo-large -t 1 --label pep_bbr1 tcp --pep -cca bbr -n 12500000 \n",
      "12.743804931640625ulation/main.py --bw1 30 --bw2 30 --delay2 20 --loss1 4 --qdisc bfifo-large -t 1 --label pep_bbr1 tcp --pep -cca bbr -n 37500000 \n",
      "11.625595569610596ulation/main.py --bw1 30 --bw2 30 --delay1 20 --delay2 1 --loss1 0 --loss2 4 --qdisc bfifo-large -t 1 --label pep_bbr1 tcp --pep -cca bbr -n 37500000 \n",
      "12.221141576766968ulation/main.py --bw1 50 --bw2 50 --delay1 20 --delay2 20 --loss1 2 --loss2 2 --qdisc bfifo-large -t 1 --label pep_bbr1 tcp --pep -cca bbr -n 62500000 \n",
      "12.692731380462646ulation/main.py --bw1 30 --bw2 30 --delay2 20 --loss1 3 --loss2 1 --qdisc bfifo-large -t 1 --label pep_bbr1 tcp --pep -cca bbr -n 37500000 \n",
      "5\n",
      "12.790805578231812ulation/main.py --bw1 10 --bw2 50 --delay2 80 --loss1 0 --loss2 4 --qdisc bfifo-small -t 1 --label pep_bbr1 tcp --pep -cca bbr -n 12500000 \n",
      "11.778768539428711ulation/main.py --bw1 30 --bw2 30 --delay2 20 --loss1 4 --qdisc bfifo-small -t 1 --label pep_bbr1 tcp --pep -cca bbr -n 37500000 \n",
      "11.652445554733276ulation/main.py --bw1 30 --bw2 30 --delay1 20 --delay2 1 --loss1 0 --loss2 4 --qdisc bfifo-small -t 1 --label pep_bbr1 tcp --pep -cca bbr -n 37500000 \n",
      "12.587331295013428ulation/main.py --bw1 50 --bw2 50 --delay1 20 --delay2 20 --loss1 2 --loss2 2 --qdisc bfifo-small -t 1 --label pep_bbr1 tcp --pep -cca bbr -n 62500000 \n",
      "12.036004543304443ulation/main.py --bw1 30 --bw2 30 --delay2 20 --loss1 3 --loss2 1 --qdisc bfifo-small -t 1 --label pep_bbr1 tcp --pep -cca bbr -n 37500000 \n",
      "5\n",
      "sudo -E python3 emulation/main.py --bw1 10 --bw2 50 --delay2 80 --loss1 0 --loss2 4 --qdisc pie -t 1 --label pep_bbr1 tcp --pep -cca bbr -n 12500000 "
     ]
    }
   ],
   "source": [
    "qdiscs = [\n",
    "    'red',\n",
    "    'bfifo-large',\n",
    "    'bfifo-small',\n",
    "    'pie',\n",
    "    'policer',\n",
    "    # 'codel',\n",
    "]\n",
    "for qdisc in qdiscs:\n",
    "    # Define the experiment\n",
    "    exp = Experiment(\n",
    "        num_trials=1,\n",
    "        treatments=[\n",
    "            treatments_map['pep'][index],\n",
    "            treatments_map['tcp'][index],\n",
    "        ],\n",
    "        network_settings=network_settings_with_qdisc(network_settings, qdisc),\n",
    "        data_sizes=data_sizes,\n",
    "        cartesian=False,\n",
    "    )\n",
    "\n",
    "    # Parse data\n",
    "    execute = True\n",
    "    raw_data = RawData(exp, execute=execute)"
   ]
  },
  {
   "cell_type": "markdown",
   "id": "2d3ec516-ffe6-47c7-8d9f-baea280bdd74",
   "metadata": {},
   "source": [
    "# Plotting functions"
   ]
  },
  {
   "cell_type": "code",
   "execution_count": null,
   "id": "2b051431-cdd6-4392-94a0-8ca793ed9594",
   "metadata": {},
   "outputs": [],
   "source": [
    "def compare_qdiscs(data, qdiscs, ns_qdiscs, data_size, group, network_setting, delta=25, ylabel='Goodput (Mbit/s)'):\n",
    "    treatments = data.treatments\n",
    "\n",
    "    # Bar width and positions\n",
    "    bar_width = 1 / len(qdiscs) - 0.01\n",
    "    x = np.arange(len(treatments))\n",
    "\n",
    "    # Create the plot\n",
    "    fig, ax = plt.subplots(figsize=(8, 6))\n",
    "\n",
    "    # Add bars for each qdisc\n",
    "    for i, (qdisc, network_setting) in enumerate(zip(qdiscs, ns_qdiscs)):\n",
    "        ys = []\n",
    "        yerr_lower = []\n",
    "        yerr_upper = []\n",
    "\n",
    "        for treatment in treatments:\n",
    "            subdata = data.data[treatment][network_setting.label()].get(data_size)\n",
    "            if subdata is None:\n",
    "                ys.append(0)\n",
    "                yerr_lower.append(0)\n",
    "                yerr_upper.append(0)\n",
    "                continue\n",
    "            ys.append(subdata.p(50))\n",
    "            yerr_lower.append(subdata.p(50) - subdata.p(50-delta))\n",
    "            yerr_upper.append(subdata.p(50+delta) - subdata.p(50))\n",
    "\n",
    "        ax.bar(x - bar_width/2 + i*bar_width, ys, bar_width, yerr=(yerr_lower, yerr_upper), label=qdisc)\n",
    "        \n",
    "    # Labeling and formatting\n",
    "    ax.set_xlabel('Congestion Control Algorithm')\n",
    "    ax.set_ylabel(ylabel)\n",
    "    ax.set_title(f'{group} {network_setting.label()}')\n",
    "    ax.set_xticks(x)\n",
    "    ax.set_xticklabels(treatments)\n",
    "    ax.grid()\n",
    "    ax.legend(loc='upper center', bbox_to_anchor=(0.5, 1.15), ncol=len(qdiscs))\n",
    "    \n",
    "    # Show the plot\n",
    "    plt.tight_layout()\n",
    "    plt.show()"
   ]
  },
  {
   "cell_type": "markdown",
   "id": "6aa38a90-07fa-414f-b02a-0914bc450357",
   "metadata": {},
   "source": [
    "# Plot data"
   ]
  },
  {
   "cell_type": "code",
   "execution_count": null,
   "id": "e991f517-35c8-4cc4-899d-0ef4924c4644",
   "metadata": {},
   "outputs": [],
   "source": [
    "for ns_index, (network_setting, data_size) in enumerate(zip(network_settings, data_sizes)):\n",
    "    ns_qdiscs = network_setting_with_qdiscs(network_setting, qdiscs)\n",
    "    for group, treatments in treatments_map.items():\n",
    "        # Define the experiment\n",
    "        exp = Experiment(\n",
    "            num_trials=50,\n",
    "            treatments=treatments,\n",
    "            network_settings = ns_qdiscs,\n",
    "            data_sizes = [data_size],\n",
    "        )\n",
    "\n",
    "        # Parse data\n",
    "        raw_data = RawData(exp, execute=False)\n",
    "        \n",
    "        # Convert to plottable data\n",
    "        metric = 'throughput_mbps'\n",
    "        plottable_data = PlottableData(raw_data, metric=metric)\n",
    "        compare_qdiscs(plottable_data, qdiscs, ns_qdiscs, data_size, f'{group} #{ns_index}', network_setting)"
   ]
  },
  {
   "cell_type": "code",
   "execution_count": null,
   "id": "ab096974-1c55-4a67-a5c7-63b6721e01e7",
   "metadata": {},
   "outputs": [],
   "source": []
  }
 ],
 "metadata": {
  "kernelspec": {
   "display_name": "Python 3 (ipykernel)",
   "language": "python",
   "name": "python3"
  },
  "language_info": {
   "codemirror_mode": {
    "name": "ipython",
    "version": 3
   },
   "file_extension": ".py",
   "mimetype": "text/x-python",
   "name": "python",
   "nbconvert_exporter": "python",
   "pygments_lexer": "ipython3",
   "version": "3.10.12"
  }
 },
 "nbformat": 4,
 "nbformat_minor": 5
}
