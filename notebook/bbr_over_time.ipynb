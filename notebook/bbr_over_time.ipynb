{
 "cells": [
  {
   "cell_type": "code",
   "execution_count": 1,
   "id": "9752fa28-df3f-401e-ba76-05183d9e0433",
   "metadata": {},
   "outputs": [],
   "source": [
    "from common import *\n",
    "from experiment import *\n",
    "from data import RawData, PlottableData"
   ]
  },
  {
   "cell_type": "markdown",
   "id": "736540c7-78e6-4340-ace7-a741aa87de56",
   "metadata": {},
   "source": [
    "# Initialize data"
   ]
  },
  {
   "cell_type": "markdown",
   "id": "a875238b-46b1-4ad0-857d-51d050682ad9",
   "metadata": {},
   "source": [
    "* We aim to test releases of each congestion control algorithm implementation,\n",
    "maybe twice a year, dating back to 2016. Say June 1 and December 1.\n",
    "Call these CCAs, e.g., `bbr-20241201`, `bbr-20240601`, possibly `bbr1-20161201`.\n",
    "* In **TCPBenchmark**, the Python code keeps the `<cca>` as is and sets the Linux \n",
    "congestion control module `sysctl -w net.ipv4.tcp_congestion_control=<cca>`.\n",
    "_We should preload modules with these names in the Linux kernel._\n",
    "* In **QUICBenchmark**, the Python code converts the `<cca>` into an `<option>`\n",
    "such as `TBBR-20240101`. The Chromium QUIC code receives this option via\n",
    "`--client_connection_options=<option>` and `--connection_options=<option>`.\n",
    "_We should pre-compile congestion control files linked to these options\n",
    "in the Chromium QUIC code._\n",
    "* These may be challenging, depending on how consistent the interfaces\n",
    "between Linux kernel congestion control modules and TCP, and\n",
    "Chromium QUIC congestion control modules and the newest toy client\n",
    "and server, are over time.\n",
    "* In the TCP benchmark, we can add another layer in the Python code from the\n",
    "date to the actual module, similar to what exists in the QUIC benchmark."
   ]
  },
  {
   "cell_type": "code",
   "execution_count": 2,
   "id": "ce207f91-0868-4315-8372-36cac69b7ee3",
   "metadata": {},
   "outputs": [
    {
     "data": {
      "text/plain": [
       "['bbr-20241201',\n",
       " 'bbr-20240601',\n",
       " 'bbr-20231201',\n",
       " 'bbr-20230601',\n",
       " 'bbr-20221201',\n",
       " 'bbr-20220601',\n",
       " 'bbr-20211201',\n",
       " 'bbr-20210601',\n",
       " 'bbr-20201201',\n",
       " 'bbr-20200601',\n",
       " 'bbr-20191201',\n",
       " 'bbr-20190601',\n",
       " 'bbr-20181201',\n",
       " 'bbr-20180601',\n",
       " 'bbr-20171201',\n",
       " 'bbr-20170601',\n",
       " 'bbr-20161201',\n",
       " 'bbr-20160601']"
      ]
     },
     "execution_count": 2,
     "metadata": {},
     "output_type": "execute_result"
    }
   ],
   "source": [
    "# Generate the ccas to test\n",
    "ccas = []\n",
    "for year in reversed(range(2016, 2025)):\n",
    "    for month in reversed([6, 12]):\n",
    "        ccas.append(f'bbr-{year}{month:02d}{1:02d}')\n",
    "ccas"
   ]
  },
  {
   "cell_type": "code",
   "execution_count": 3,
   "id": "a9b25397-e95c-433f-85a4-4eb2e2456789",
   "metadata": {},
   "outputs": [
    {
     "name": "stdout",
     "output_type": "stream",
     "text": [
      "['tcp', 'pep', 'quic']\n"
     ]
    }
   ],
   "source": [
    "# Generate the treatments\n",
    "treatments = {\n",
    "    'tcp': [],\n",
    "    'pep': [],\n",
    "    'quic': [],\n",
    "}\n",
    "for cca in ccas:\n",
    "    treatments['tcp'].append(TCPTreatment(cca=cca, pep=False))\n",
    "    treatments['pep'].append(TCPTreatment(cca=cca, pep=True))\n",
    "    treatments['quic'].append(QUICTreatment(cca=cca))\n",
    "print(list(treatments.keys()))"
   ]
  },
  {
   "cell_type": "code",
   "execution_count": 4,
   "id": "7ab788c9-16d7-4bd6-b142-fa0d2bc91dbf",
   "metadata": {},
   "outputs": [],
   "source": [
    "# Generate a representative network setting and data size\n",
    "# TODO\n",
    "network_setting = NetworkSetting()\n",
    "data_size = 10000000 # 10 MByte"
   ]
  },
  {
   "cell_type": "markdown",
   "id": "2d3ec516-ffe6-47c7-8d9f-baea280bdd74",
   "metadata": {},
   "source": [
    "# Plotting functions"
   ]
  },
  {
   "cell_type": "code",
   "execution_count": 5,
   "id": "778c3e1d-5c67-417a-8ea0-ed8c83abf4e9",
   "metadata": {},
   "outputs": [],
   "source": [
    "def plot_bbr_over_time(data, ccas, treatments, delta=40, title='BBR Over Time', ylabel='Goodput (Mbit/s)'):\n",
    "    plt.figure(figsize=(6, 4))\n",
    "\n",
    "    assert len(data.network_settings) == 1\n",
    "    network = data.network_settings[0]\n",
    "    assert len(data.data_sizes) == 1\n",
    "    data_size = data.data_sizes[0]\n",
    "\n",
    "    for label, cca_treatments in treatments.items():\n",
    "        xs = []\n",
    "        ys = []\n",
    "        yerr_lower = []\n",
    "        yerr_upper = []\n",
    "\n",
    "        for cca_treatment in cca_treatments:\n",
    "            sublabel = cca_treatment.label()\n",
    "            subdata = data.data[sublabel][network].get(data_size)\n",
    "            if subdata is None:\n",
    "                continue\n",
    "            xs.append(sublabel)\n",
    "            ys.append(subdata.p(50))\n",
    "            yerr_lower.append(y.p(50) - y.p(50-delta))\n",
    "            yerr_upper.append(y.p(50+delta) - y.p(50))\n",
    "\n",
    "        plt.errorbar(xs, ys, yerr=(yerr_lower, yerr_upper), marker='.', capsize=5, label=label)\n",
    "\n",
    "    plt.title(title)\n",
    "    plt.xlabel('Date')\n",
    "    plt.ylabel(ylabel)\n",
    "    plt.grid()\n",
    "    plt.ylim(0)\n",
    "    plt.legend(loc='upper center', bbox_to_anchor=(0.5, 1.2), ncol=4)\n",
    "    plt.show()"
   ]
  },
  {
   "cell_type": "markdown",
   "id": "6aa38a90-07fa-414f-b02a-0914bc450357",
   "metadata": {},
   "source": [
    "# Execute and plot data"
   ]
  },
  {
   "cell_type": "code",
   "execution_count": 6,
   "id": "9645c0a4-bed8-493e-a9fd-e6fd2212035a",
   "metadata": {},
   "outputs": [
    {
     "name": "stdout",
     "output_type": "stream",
     "text": [
      "MISSING: sudo -E python3 emulation/main.py -t 10 --label tcp_bbr-20241201 tcp -cca bbr-20241201 -n 10000000\n",
      "MISSING: sudo -E python3 emulation/main.py -t 10 --label tcp_bbr-20240601 tcp -cca bbr-20240601 -n 10000000\n",
      "MISSING: sudo -E python3 emulation/main.py -t 10 --label tcp_bbr-20231201 tcp -cca bbr-20231201 -n 10000000\n",
      "MISSING: sudo -E python3 emulation/main.py -t 10 --label tcp_bbr-20230601 tcp -cca bbr-20230601 -n 10000000\n",
      "MISSING: sudo -E python3 emulation/main.py -t 10 --label tcp_bbr-20221201 tcp -cca bbr-20221201 -n 10000000\n",
      "MISSING: sudo -E python3 emulation/main.py -t 10 --label tcp_bbr-20220601 tcp -cca bbr-20220601 -n 10000000\n",
      "MISSING: sudo -E python3 emulation/main.py -t 10 --label tcp_bbr-20211201 tcp -cca bbr-20211201 -n 10000000\n",
      "MISSING: sudo -E python3 emulation/main.py -t 10 --label tcp_bbr-20210601 tcp -cca bbr-20210601 -n 10000000\n",
      "MISSING: sudo -E python3 emulation/main.py -t 10 --label tcp_bbr-20201201 tcp -cca bbr-20201201 -n 10000000\n",
      "MISSING: sudo -E python3 emulation/main.py -t 10 --label tcp_bbr-20200601 tcp -cca bbr-20200601 -n 10000000\n",
      "MISSING: sudo -E python3 emulation/main.py -t 10 --label tcp_bbr-20191201 tcp -cca bbr-20191201 -n 10000000\n",
      "MISSING: sudo -E python3 emulation/main.py -t 10 --label tcp_bbr-20190601 tcp -cca bbr-20190601 -n 10000000\n",
      "MISSING: sudo -E python3 emulation/main.py -t 10 --label tcp_bbr-20181201 tcp -cca bbr-20181201 -n 10000000\n",
      "MISSING: sudo -E python3 emulation/main.py -t 10 --label tcp_bbr-20180601 tcp -cca bbr-20180601 -n 10000000\n",
      "MISSING: sudo -E python3 emulation/main.py -t 10 --label tcp_bbr-20171201 tcp -cca bbr-20171201 -n 10000000\n",
      "MISSING: sudo -E python3 emulation/main.py -t 10 --label tcp_bbr-20170601 tcp -cca bbr-20170601 -n 10000000\n",
      "MISSING: sudo -E python3 emulation/main.py -t 10 --label tcp_bbr-20161201 tcp -cca bbr-20161201 -n 10000000\n",
      "MISSING: sudo -E python3 emulation/main.py -t 10 --label tcp_bbr-20160601 tcp -cca bbr-20160601 -n 10000000\n",
      "MISSING: sudo -E python3 emulation/main.py -t 10 --label pep_bbr-20241201 tcp --pep -cca bbr-20241201 -n 10000000\n",
      "MISSING: sudo -E python3 emulation/main.py -t 10 --label pep_bbr-20240601 tcp --pep -cca bbr-20240601 -n 10000000\n",
      "MISSING: sudo -E python3 emulation/main.py -t 10 --label pep_bbr-20231201 tcp --pep -cca bbr-20231201 -n 10000000\n",
      "MISSING: sudo -E python3 emulation/main.py -t 10 --label pep_bbr-20230601 tcp --pep -cca bbr-20230601 -n 10000000\n",
      "MISSING: sudo -E python3 emulation/main.py -t 10 --label pep_bbr-20221201 tcp --pep -cca bbr-20221201 -n 10000000\n",
      "MISSING: sudo -E python3 emulation/main.py -t 10 --label pep_bbr-20220601 tcp --pep -cca bbr-20220601 -n 10000000\n",
      "MISSING: sudo -E python3 emulation/main.py -t 10 --label pep_bbr-20211201 tcp --pep -cca bbr-20211201 -n 10000000\n",
      "MISSING: sudo -E python3 emulation/main.py -t 10 --label pep_bbr-20210601 tcp --pep -cca bbr-20210601 -n 10000000\n",
      "MISSING: sudo -E python3 emulation/main.py -t 10 --label pep_bbr-20201201 tcp --pep -cca bbr-20201201 -n 10000000\n",
      "MISSING: sudo -E python3 emulation/main.py -t 10 --label pep_bbr-20200601 tcp --pep -cca bbr-20200601 -n 10000000\n",
      "MISSING: sudo -E python3 emulation/main.py -t 10 --label pep_bbr-20191201 tcp --pep -cca bbr-20191201 -n 10000000\n",
      "MISSING: sudo -E python3 emulation/main.py -t 10 --label pep_bbr-20190601 tcp --pep -cca bbr-20190601 -n 10000000\n",
      "MISSING: sudo -E python3 emulation/main.py -t 10 --label pep_bbr-20181201 tcp --pep -cca bbr-20181201 -n 10000000\n",
      "MISSING: sudo -E python3 emulation/main.py -t 10 --label pep_bbr-20180601 tcp --pep -cca bbr-20180601 -n 10000000\n",
      "MISSING: sudo -E python3 emulation/main.py -t 10 --label pep_bbr-20171201 tcp --pep -cca bbr-20171201 -n 10000000\n",
      "MISSING: sudo -E python3 emulation/main.py -t 10 --label pep_bbr-20170601 tcp --pep -cca bbr-20170601 -n 10000000\n",
      "MISSING: sudo -E python3 emulation/main.py -t 10 --label pep_bbr-20161201 tcp --pep -cca bbr-20161201 -n 10000000\n",
      "MISSING: sudo -E python3 emulation/main.py -t 10 --label pep_bbr-20160601 tcp --pep -cca bbr-20160601 -n 10000000\n",
      "MISSING: sudo -E python3 emulation/main.py -t 10 --label quic_bbr-20241201 quic -cca bbr-20241201 -n 10000000\n",
      "MISSING: sudo -E python3 emulation/main.py -t 10 --label quic_bbr-20240601 quic -cca bbr-20240601 -n 10000000\n",
      "MISSING: sudo -E python3 emulation/main.py -t 10 --label quic_bbr-20231201 quic -cca bbr-20231201 -n 10000000\n",
      "MISSING: sudo -E python3 emulation/main.py -t 10 --label quic_bbr-20230601 quic -cca bbr-20230601 -n 10000000\n",
      "MISSING: sudo -E python3 emulation/main.py -t 10 --label quic_bbr-20221201 quic -cca bbr-20221201 -n 10000000\n",
      "MISSING: sudo -E python3 emulation/main.py -t 10 --label quic_bbr-20220601 quic -cca bbr-20220601 -n 10000000\n",
      "MISSING: sudo -E python3 emulation/main.py -t 10 --label quic_bbr-20211201 quic -cca bbr-20211201 -n 10000000\n",
      "MISSING: sudo -E python3 emulation/main.py -t 10 --label quic_bbr-20210601 quic -cca bbr-20210601 -n 10000000\n",
      "MISSING: sudo -E python3 emulation/main.py -t 10 --label quic_bbr-20201201 quic -cca bbr-20201201 -n 10000000\n",
      "MISSING: sudo -E python3 emulation/main.py -t 10 --label quic_bbr-20200601 quic -cca bbr-20200601 -n 10000000\n",
      "MISSING: sudo -E python3 emulation/main.py -t 10 --label quic_bbr-20191201 quic -cca bbr-20191201 -n 10000000\n",
      "MISSING: sudo -E python3 emulation/main.py -t 10 --label quic_bbr-20190601 quic -cca bbr-20190601 -n 10000000\n",
      "MISSING: sudo -E python3 emulation/main.py -t 10 --label quic_bbr-20181201 quic -cca bbr-20181201 -n 10000000\n",
      "MISSING: sudo -E python3 emulation/main.py -t 10 --label quic_bbr-20180601 quic -cca bbr-20180601 -n 10000000\n",
      "MISSING: sudo -E python3 emulation/main.py -t 10 --label quic_bbr-20171201 quic -cca bbr-20171201 -n 10000000\n",
      "MISSING: sudo -E python3 emulation/main.py -t 10 --label quic_bbr-20170601 quic -cca bbr-20170601 -n 10000000\n",
      "MISSING: sudo -E python3 emulation/main.py -t 10 --label quic_bbr-20161201 quic -cca bbr-20161201 -n 10000000\n",
      "MISSING: sudo -E python3 emulation/main.py -t 10 --label quic_bbr-20160601 quic -cca bbr-20160601 -n 10000000\n"
     ]
    },
    {
     "data": {
      "image/png": "[encoded data removed]",
      "text/plain": [
       "<Figure size 600x400 with 1 Axes>"
      ]
     },
     "metadata": {},
     "output_type": "display_data"
    }
   ],
   "source": [
    "# Define the experiment\n",
    "num_trials = 10\n",
    "exp = Experiment(\n",
    "    num_trials=num_trials,\n",
    "    treatments=sum(treatments.values(), []),\n",
    "    network_settings=[network_setting],\n",
    "    data_sizes=[data_size],\n",
    ")\n",
    "\n",
    "# Collect data\n",
    "execute = False\n",
    "raw_data = RawData(exp, execute=execute)\n",
    "\n",
    "# Convert to plottable data\n",
    "metric = 'throughput_mbps'\n",
    "plottable_data = PlottableData(raw_data, metric=metric)\n",
    "plot_bbr_over_time(plottable_data, ccas=ccas, treatments=treatments)"
   ]
  },
  {
   "cell_type": "code",
   "execution_count": null,
   "id": "f54c4fce-1750-45a3-9474-744da1eb95b7",
   "metadata": {},
   "outputs": [],
   "source": []
  }
 ],
 "metadata": {
  "kernelspec": {
   "display_name": "Python 3 (ipykernel)",
   "language": "python",
   "name": "python3"
  },
  "language_info": {
   "codemirror_mode": {
    "name": "ipython",
    "version": 3
   },
   "file_extension": ".py",
   "mimetype": "text/x-python",
   "name": "python",
   "nbconvert_exporter": "python",
   "pygments_lexer": "ipython3",
   "version": "3.10.12"
  }
 },
 "nbformat": 4,
 "nbformat_minor": 5
}
