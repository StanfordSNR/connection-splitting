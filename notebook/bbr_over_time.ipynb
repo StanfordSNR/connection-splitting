{
 "cells": [
  {
   "cell_type": "code",
   "execution_count": 9,
   "id": "9752fa28-df3f-401e-ba76-05183d9e0433",
   "metadata": {},
   "outputs": [],
   "source": [
    "from common import *\n",
    "from experiment import *\n",
    "from data import RawData, PlottableData"
   ]
  },
  {
   "cell_type": "markdown",
   "id": "736540c7-78e6-4340-ace7-a741aa87de56",
   "metadata": {},
   "source": [
    "# Initialize data"
   ]
  },
  {
   "cell_type": "markdown",
   "id": "a875238b-46b1-4ad0-857d-51d050682ad9",
   "metadata": {},
   "source": [
    "* We aim to test releases of BBRv1 dating back to 2016.\n",
    "* In **TCPBenchmark**, the Python code keeps the `<cca>` as is and sets the Linux \n",
    "  congestion control module `sysctl -w net.ipv4.tcp_congestion_control=<cca>`.\n",
    "* This notebook is only for plotting data. Execute the data on each Linux kernel\n",
    "  and aggregate the data separately.\n",
    "\n",
    "<!-- Not in use:\n",
    "* In **QUICBenchmark**, the Python code converts the `<cca>` into an `<option>`\n",
    "such as `TBBR-20240101`. The Chromium QUIC code receives this option via\n",
    "`--client_connection_options=<option>` and `--connection_options=<option>`.\n",
    "_We should pre-compile congestion control files linked to these options\n",
    "in the Chromium QUIC code._\n",
    "* These may be challenging, depending on how consistent the interfaces\n",
    "between Linux kernel congestion control modules and TCP, and\n",
    "Chromium QUIC congestion control modules and the newest toy client\n",
    "and server, are over time.\n",
    "* In the TCP benchmark, we can add another layer in the Python code from the\n",
    "date to the actual module, similar to what exists in the QUIC benchmark. -->"
   ]
  },
  {
   "cell_type": "code",
   "execution_count": 16,
   "id": "6e50e6cf-af34-4c7c-b752-982c08a9a525",
   "metadata": {},
   "outputs": [],
   "source": [
    "# Generate the labels to test. Each treatment needs to run on a Linux kernel with the correctly compiled bbr commit.\n",
    "cca_labels = [\n",
    "    ('bbr', 'bbr-yyyymmdd-hash'), # Or some other reference to the version\n",
    "    ('bbr', 'bbr-yyyymmdd-hash'),\n",
    "    ('bbr', 'bbr-yyyymmdd-hash'),\n",
    "    ('bbr', 'bbr-yyyymmdd-hash'),\n",
    "    ('bbr', 'bbr-yyyymmdd-hash'),\n",
    "    ('bbr2', 'bbr2-yyyymmdd-hash'), # google/bbr/v2alpha\n",
    "    ('bbr', 'bbr3-yyyymmdd-hash'), # google/bbr/v3\n",
    "]"
   ]
  },
  {
   "cell_type": "code",
   "execution_count": 17,
   "id": "a9b25397-e95c-433f-85a4-4eb2e2456789",
   "metadata": {},
   "outputs": [
    {
     "name": "stdout",
     "output_type": "stream",
     "text": [
      "['tcp', 'pep']\n"
     ]
    }
   ],
   "source": [
    "# Generate the treatments\n",
    "treatments = {\n",
    "    'tcp': [],\n",
    "    'pep': [],\n",
    "}\n",
    "for cca, label in cca_labels:\n",
    "    treatments['tcp'].append(TCPTreatment(cca=cca, pep=False, label=f'tcp_{label}'))\n",
    "    treatments['pep'].append(TCPTreatment(cca=cca, pep=True, label=f'pep_{label}'))\n",
    "print(list(treatments.keys()))"
   ]
  },
  {
   "cell_type": "code",
   "execution_count": 22,
   "id": "7ab788c9-16d7-4bd6-b142-fa0d2bc91dbf",
   "metadata": {},
   "outputs": [],
   "source": [
    "# Generate a representative network setting and data size\n",
    "num_trials = 10\n",
    "network_setting = NetworkSetting(delay1=1, delay2=25, loss1='1', loss2='0', bw1=300, bw2=100)\n",
    "data_size = int(10*1000000*100/8)  # 10x the bottleneck bandwidth"
   ]
  },
  {
   "cell_type": "markdown",
   "id": "1ed6593d-8c78-4989-ba64-72352fe605b5",
   "metadata": {},
   "source": [
    "# Execute experiment on a single machine"
   ]
  },
  {
   "cell_type": "markdown",
   "id": "599fec2e-5b6a-4865-9c54-1edfe6fffbb3",
   "metadata": {},
   "source": [
    "For a given index, execute the TCP and PEP experiment on this machine.\n",
    "The script automatically writes the data to the correct subdirectory in `data/`.\n",
    "To aggregate all the data, we can `rsync` each the `data/` directory from each server\n",
    "with the `data/` directory on a central machine. Then execute the remainder of the\n",
    "Jupyter notebook to plot the data together."
   ]
  },
  {
   "cell_type": "code",
   "execution_count": 24,
   "id": "a56700fd-cc67-410d-9fef-87a38b420231",
   "metadata": {},
   "outputs": [
    {
     "name": "stdout",
     "output_type": "stream",
     "text": [
      "MISSING: sudo -E python3 emulation/main.py --bw1 300 --bw2 100 -t 10 --label tcp_bbr-yyyymmdd-hash tcp -cca bbr -n 125000000\n",
      "MISSING: sudo -E python3 emulation/main.py --bw1 300 --bw2 100 -t 10 --label pep_bbr-yyyymmdd-hash tcp --pep -cca bbr -n 125000000\n"
     ]
    }
   ],
   "source": [
    "# Define the experiment\n",
    "index = 0\n",
    "exp = Experiment(\n",
    "    num_trials=num_trials,\n",
    "    treatments=[treatments['tcp'][0], treatments['pep'][0]],\n",
    "    network_settings=[network_setting],\n",
    "    data_sizes=[data_size],\n",
    ")\n",
    "\n",
    "# Parse data\n",
    "execute = False # set to True\n",
    "raw_data = RawData(exp, execute=execute)"
   ]
  },
  {
   "cell_type": "markdown",
   "id": "2d3ec516-ffe6-47c7-8d9f-baea280bdd74",
   "metadata": {},
   "source": [
    "# Plotting functions"
   ]
  },
  {
   "cell_type": "code",
   "execution_count": 19,
   "id": "778c3e1d-5c67-417a-8ea0-ed8c83abf4e9",
   "metadata": {},
   "outputs": [],
   "source": [
    "def plot_bbr_over_time(data, ccas, treatments, delta=40, title='BBR Over Time', ylabel='Goodput (Mbit/s)'):\n",
    "    plt.figure(figsize=(6, 4))\n",
    "\n",
    "    assert len(data.network_settings) == 1\n",
    "    network = data.network_settings[0]\n",
    "    assert len(data.data_sizes) == 1\n",
    "    data_size = data.data_sizes[0]\n",
    "\n",
    "    for label, cca_treatments in treatments.items():\n",
    "        xs = []\n",
    "        ys = []\n",
    "        yerr_lower = []\n",
    "        yerr_upper = []\n",
    "\n",
    "        for cca_treatment in cca_treatments:\n",
    "            sublabel = cca_treatment.label()\n",
    "            subdata = data.data[sublabel][network].get(data_size)\n",
    "            if subdata is None:\n",
    "                continue\n",
    "            xs.append(sublabel)\n",
    "            ys.append(subdata.p(50))\n",
    "            yerr_lower.append(y.p(50) - y.p(50-delta))\n",
    "            yerr_upper.append(y.p(50+delta) - y.p(50))\n",
    "\n",
    "        plt.errorbar(xs, ys, yerr=(yerr_lower, yerr_upper), marker='.', capsize=5, label=label)\n",
    "\n",
    "    plt.title(title)\n",
    "    plt.xlabel('Date')\n",
    "    plt.ylabel(ylabel)\n",
    "    plt.grid()\n",
    "    plt.ylim(0)\n",
    "    plt.legend(loc='upper center', bbox_to_anchor=(0.5, 1.2), ncol=4)\n",
    "    plt.show()"
   ]
  },
  {
   "cell_type": "markdown",
   "id": "6aa38a90-07fa-414f-b02a-0914bc450357",
   "metadata": {},
   "source": [
    "# Plot data"
   ]
  },
  {
   "cell_type": "code",
   "execution_count": 21,
   "id": "9645c0a4-bed8-493e-a9fd-e6fd2212035a",
   "metadata": {},
   "outputs": [
    {
     "name": "stdout",
     "output_type": "stream",
     "text": [
      "MISSING: sudo -E python3 emulation/main.py --bw1 300 --bw2 100 -t 10 --label tcp_bbr-yyyymmdd-hash tcp -cca bbr -n 125000000\n",
      "MISSING: sudo -E python3 emulation/main.py --bw1 300 --bw2 100 -t 10 --label tcp_bbr-yyyymmdd-hash tcp -cca bbr -n 125000000\n",
      "MISSING: sudo -E python3 emulation/main.py --bw1 300 --bw2 100 -t 10 --label tcp_bbr-yyyymmdd-hash tcp -cca bbr -n 125000000\n",
      "MISSING: sudo -E python3 emulation/main.py --bw1 300 --bw2 100 -t 10 --label tcp_bbr-yyyymmdd-hash tcp -cca bbr -n 125000000\n",
      "MISSING: sudo -E python3 emulation/main.py --bw1 300 --bw2 100 -t 10 --label tcp_bbr-yyyymmdd-hash tcp -cca bbr -n 125000000\n",
      "MISSING: sudo -E python3 emulation/main.py --bw1 300 --bw2 100 -t 10 --label tcp_bbr2-yyyymmdd-hash tcp -cca bbr2 -n 125000000\n",
      "MISSING: sudo -E python3 emulation/main.py --bw1 300 --bw2 100 -t 10 --label tcp_bbr3-yyyymmdd-hash tcp -cca bbr -n 125000000\n",
      "MISSING: sudo -E python3 emulation/main.py --bw1 300 --bw2 100 -t 10 --label pep_bbr-yyyymmdd-hash tcp --pep -cca bbr -n 125000000\n",
      "MISSING: sudo -E python3 emulation/main.py --bw1 300 --bw2 100 -t 10 --label pep_bbr-yyyymmdd-hash tcp --pep -cca bbr -n 125000000\n",
      "MISSING: sudo -E python3 emulation/main.py --bw1 300 --bw2 100 -t 10 --label pep_bbr-yyyymmdd-hash tcp --pep -cca bbr -n 125000000\n",
      "MISSING: sudo -E python3 emulation/main.py --bw1 300 --bw2 100 -t 10 --label pep_bbr-yyyymmdd-hash tcp --pep -cca bbr -n 125000000\n",
      "MISSING: sudo -E python3 emulation/main.py --bw1 300 --bw2 100 -t 10 --label pep_bbr-yyyymmdd-hash tcp --pep -cca bbr -n 125000000\n",
      "MISSING: sudo -E python3 emulation/main.py --bw1 300 --bw2 100 -t 10 --label pep_bbr2-yyyymmdd-hash tcp --pep -cca bbr2 -n 125000000\n",
      "MISSING: sudo -E python3 emulation/main.py --bw1 300 --bw2 100 -t 10 --label pep_bbr3-yyyymmdd-hash tcp --pep -cca bbr -n 125000000\n"
     ]
    },
    {
     "data": {
      "image/png": "[encoded data removed]",
      "text/plain": [
       "<Figure size 600x400 with 1 Axes>"
      ]
     },
     "metadata": {},
     "output_type": "display_data"
    }
   ],
   "source": [
    "# Define the experiment\n",
    "exp = Experiment(\n",
    "    num_trials=num_trials,\n",
    "    treatments=sum(treatments.values(), []),\n",
    "    network_settings=[network_setting],\n",
    "    data_sizes=[data_size],\n",
    ")\n",
    "\n",
    "# Parse data\n",
    "raw_data = RawData(exp, execute=False)\n",
    "\n",
    "# Convert to plottable data\n",
    "metric = 'throughput_mbps'\n",
    "plottable_data = PlottableData(raw_data, metric=metric)\n",
    "plot_bbr_over_time(plottable_data, ccas=ccas, treatments=treatments)"
   ]
  },
  {
   "cell_type": "code",
   "execution_count": null,
   "id": "f54c4fce-1750-45a3-9474-744da1eb95b7",
   "metadata": {},
   "outputs": [],
   "source": []
  }
 ],
 "metadata": {
  "kernelspec": {
   "display_name": "Python 3 (ipykernel)",
   "language": "python",
   "name": "python3"
  },
  "language_info": {
   "codemirror_mode": {
    "name": "ipython",
    "version": 3
   },
   "file_extension": ".py",
   "mimetype": "text/x-python",
   "name": "python",
   "nbconvert_exporter": "python",
   "pygments_lexer": "ipython3",
   "version": "3.10.12"
  }
 },
 "nbformat": 4,
 "nbformat_minor": 5
}
